{
 "cells": [
  {
   "cell_type": "code",
   "execution_count": 1,
   "id": "2a4ba4c6",
   "metadata": {},
   "outputs": [],
   "source": [
    "import torch\n",
    "\n",
    "from dem_sim.datasets import SampleDataset, StepDataset\n",
    "from dem_sim.utils import periodic_difference\n",
    "\n",
    "data_dir = '/Users/aronjansen/Documents/grainsData/raw/'\n",
    "filename = 'simState_path_sampling_5000_graphs_reformatted.hdf5'\n",
    "sample_dataset = SampleDataset(data_dir + filename)\n",
    "step_dataset = StepDataset(sample_dataset)"
   ]
  },
  {
   "cell_type": "code",
   "execution_count": 2,
   "id": "c776cd82",
   "metadata": {},
   "outputs": [],
   "source": [
    "pos_diffs = [\n",
    "    periodic_difference(sample_dataset[sample].positions[:-1], sample_dataset[sample].positions[1:], \n",
    "                        torch.unsqueeze(sample_dataset[sample].domain[1:], dim=1))\n",
    "    for sample in range(len(sample_dataset))]\n",
    "vel_diffs = [\n",
    "    sample_dataset[sample].velocities[:-1][:3] - sample_dataset[sample].velocities[1:][:3] \n",
    "    for sample in range(len(sample_dataset))]\n",
    "vel_ang_diffs = [\n",
    "    sample_dataset[sample].velocities[:-1][3:] - sample_dataset[sample].velocities[1:][3:]\n",
    "    for sample in range(len(sample_dataset))]"
   ]
  },
  {
   "cell_type": "code",
   "execution_count": 3,
   "id": "4f4baa5a",
   "metadata": {},
   "outputs": [],
   "source": [
    "def get_rmse(diffs):\n",
    "    # here mean is taken over the nodes, features (i.e. components) and timesteps.\n",
    "    # the first two we want, the latter we do at the end, so as not to make steps in longer samples count less\n",
    "    tot_sq_diffs = sum(diff.shape[0] * (diff**2).mean() for diff in diffs)\n",
    "    mse = tot_sq_diffs / len(step_dataset)\n",
    "    return mse.sqrt()\n",
    "\n",
    "pos_rmse = get_rmse(pos_diffs)\n",
    "vel_rmse = get_rmse(vel_diffs)\n",
    "vel_ang_rmse = get_rmse(vel_ang_diffs)"
   ]
  },
  {
   "cell_type": "code",
   "execution_count": 4,
   "id": "beed6316",
   "metadata": {},
   "outputs": [
    {
     "data": {
      "text/plain": [
       "(tensor(0.0016), tensor(0.0017), tensor(0.0176))"
      ]
     },
     "execution_count": 4,
     "metadata": {},
     "output_type": "execute_result"
    }
   ],
   "source": [
    "pos_rmse, vel_rmse, vel_ang_rmse"
   ]
  },
  {
   "cell_type": "code",
   "execution_count": null,
   "id": "5b42d7d8",
   "metadata": {},
   "outputs": [],
   "source": []
  }
 ],
 "metadata": {
  "kernelspec": {
   "display_name": "grain-graphs",
   "language": "python",
   "name": "grain-graphs"
  },
  "language_info": {
   "codemirror_mode": {
    "name": "ipython",
    "version": 3
   },
   "file_extension": ".py",
   "mimetype": "text/x-python",
   "name": "python",
   "nbconvert_exporter": "python",
   "pygments_lexer": "ipython3",
   "version": "3.10.5"
  }
 },
 "nbformat": 4,
 "nbformat_minor": 5
}
