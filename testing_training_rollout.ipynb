{
 "cells": [
  {
   "cell_type": "code",
   "execution_count": null,
   "id": "d592e27d",
   "metadata": {},
   "outputs": [],
   "source": [
    "# Test training loop"
   ]
  },
  {
   "cell_type": "code",
   "execution_count": null,
   "id": "367e9384",
   "metadata": {},
   "outputs": [],
   "source": [
    "import torch\n",
    "from torch.optim import Adam\n",
    "from torch.utils.data import DataLoader\n",
    "from torch.nn import MSELoss\n",
    "\n",
    "from dem_sim.datasets import SampleDataset, StepDataset\n",
    "from dem_sim.simulator import Simulator\n",
    "from dem_sim.generator import GraphGenerator\n",
    "from dem_sim.model import Model\n",
    "from dem_sim.training import train, DEMLoss\n",
    "\n",
    "\n",
    "data_dir = '/Users/aronjansen/Documents/grainsData/raw/'\n",
    "filename = 'simState_path_sampling_5000_graphs_reformatted.hdf5'\n",
    "sample_dataset = SampleDataset(data_dir + filename)\n",
    "step_dataset = StepDataset(sample_dataset)\n",
    "\n",
    "generator = GraphGenerator(cutoff_distance=2. * sample_dataset.max_particle_radius)\n",
    "model = Model()\n",
    "simulator = Simulator(model=model, graph_generator=generator)\n",
    "\n",
    "optimizer = Adam(simulator.parameters())\n",
    "loader = DataLoader(step_dataset, batch_size=1, shuffle=True)\n",
    "loss_function = DEMLoss()\n",
    "device = torch.device(\"cpu\")\n",
    "\n",
    "#train(simulator, optimizer, loader, loss_function, device)"
   ]
  },
  {
   "cell_type": "code",
   "execution_count": null,
   "id": "d86ea917",
   "metadata": {},
   "outputs": [],
   "source": [
    "# test rollout"
   ]
  },
  {
   "cell_type": "code",
   "execution_count": null,
   "id": "a8eeb893",
   "metadata": {},
   "outputs": [],
   "source": [
    "gd_sample = sample_dataset[10]\n",
    "macro_sequence = gd_sample.domain\n",
    "time_sequence = gd_sample.time\n",
    "max_steps = 20\n",
    "predictions = simulator.rollout(gd_sample, macro_sequence[:max_steps], time_sequence[:max_steps])"
   ]
  },
  {
   "cell_type": "code",
   "execution_count": null,
   "id": "69bb6435",
   "metadata": {},
   "outputs": [],
   "source": []
  }
 ],
 "metadata": {
  "kernelspec": {
   "display_name": "grain-graphs",
   "language": "python",
   "name": "grain-graphs"
  },
  "language_info": {
   "codemirror_mode": {
    "name": "ipython",
    "version": 3
   },
   "file_extension": ".py",
   "mimetype": "text/x-python",
   "name": "python",
   "nbconvert_exporter": "python",
   "pygments_lexer": "ipython3",
   "version": "3.10.5"
  }
 },
 "nbformat": 4,
 "nbformat_minor": 5
}
